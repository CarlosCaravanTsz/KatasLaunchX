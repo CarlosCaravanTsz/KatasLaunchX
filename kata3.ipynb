{
 "cells": [
  {
   "cell_type": "markdown",
   "metadata": {},
   "source": [
    "# Ejercicio 1 - Condicionales If-Elif-Else"
   ]
  },
  {
   "cell_type": "markdown",
   "metadata": {},
   "source": []
  },
  {
   "cell_type": "code",
   "execution_count": 1,
   "metadata": {},
   "outputs": [
    {
     "name": "stdout",
     "output_type": "stream",
     "text": [
      "Advertencia!! Hay un meteorito amenzando a la tierra\n"
     ]
    }
   ],
   "source": [
    "v = 49 #k/h\n",
    "if v > 25:\n",
    "    print(\"Advertencia!! Hay un meteorito amenzando a la tierra\")\n",
    "else:\n",
    "    print(\"Todo en orden, no hay ninguna amenaza\")\n",
    "\n",
    "\n",
    "# Escribe una expresión de prueba para calcular si necesita una advertencia.\n",
    "# Agregue las instrucciones que se ejecutarán si la expresión de prueba es true o false."
   ]
  },
  {
   "cell_type": "code",
   "execution_count": 3,
   "metadata": {},
   "outputs": [
    {
     "name": "stdout",
     "output_type": "stream",
     "text": [
      "Todo en orden, no hay amenazas\n"
     ]
    }
   ],
   "source": [
    "v = 19\n",
    "\n",
    "if v >= 20:\n",
    "    print(\"Mira al cielo y verás el asteroide!\")\n",
    "elif v>= 25:\n",
    "    print(\"Advertencia!! Hay un meteorito amenzanado a la tierra!!\")\n",
    "else:\n",
    "    print(\"Todo en orden, no hay amenazas\")"
   ]
  },
  {
   "cell_type": "code",
   "execution_count": 4,
   "metadata": {},
   "outputs": [],
   "source": [
    "conocimiento = input(\"¿Sabes de un asteriode acercandose a la Tierra? y/n\")\n",
    "if conocimiento == \"y\":\n",
    "    asteroidvel = input(\"Introduzca la velocidad del asteriode en km/s \")\n",
    "    if int(asteroidvel) >= 20 and int(asteroidvel) < 25:\n",
    "        print(\"No te olvides de ver el asteoride en el cielo!\")\n",
    "        veoasteroid = input(\"¿ves el asteroide? y/n\")\n",
    "        if veoasteroid == \"y\":\n",
    "            print(\"Genial!\")\n",
    "        else:\n",
    "            print(\"Muévete a una posición libre\")\n",
    "    elif int(asteroidvel) < 20 and int(asteroidvel) > 0:\n",
    "        print(\n",
    "            \"El asteroide es muy pequeño y no puede verse bien!\")\n",
    "    elif int(asteroidvel) >= 25:\n",
    "        print(\"Vamos a morir todos?\")\n",
    "else:\n",
    "    asteroidvel = 19\n",
    "    if asteroidvel == 19:\n",
    "        print(\"Existe un asteroide aproximándose a la Tierra ahora, su velocidad es de\", +\n",
    "              asteroidvel, \"km/s\\nLamentablemente, no serás capaz de verlo\")\n"
   ]
  },
  {
   "cell_type": "code",
   "execution_count": null,
   "metadata": {},
   "outputs": [],
   "source": [
    "v = input(\"Introduzca la velocidad del asteriode en km/s \")\n",
    "m = input(\"introduzca el tamaño del asteroide en m\")\n",
    "   if int(v) >= 20 and int(v) < 25 and m < 25:\n",
    "        print(\"Mira al cielo, el asteroide podría producir un rayo de luz vistoso :0 y es inofensivo\")\n",
    "    elif int(v) >= 20 and int(v) < 25 and m >= 25:\n",
    "        print(\"Mira al cielo, el asteroide podría producir un rayo de luz vistoso :0 disfrútalo porque a causa del tamaño, quizás mueras :'(\")\n",
    "    elif int(v) < 20 and int(v) > 0:\n",
    "        print(\n",
    "            \"Un asteroide así probablemente es tan invisible como tú para ella, lo siento :(\")\n",
    "    elif int(v) >= 25:\n",
    "        print(\"Warning! Este asteroide es bastante amenazador\")\n",
    "    elif int(m) > 25 and int(m) < 1000:\n",
    "        print(\"Watch out!! eso causará mucho daño :c\")\n"
   ]
  },
  {
   "cell_type": "code",
   "execution_count": null,
   "metadata": {},
   "outputs": [],
   "source": []
  }
 ],
 "metadata": {
  "interpreter": {
   "hash": "49a59247e00e78dd3d6c5764aab6d4d0efbe08d005127db7fb3841084a93068a"
  },
  "kernelspec": {
   "display_name": "Python 3.9.10 64-bit (windows store)",
   "language": "python",
   "name": "python3"
  },
  "language_info": {
   "codemirror_mode": {
    "name": "ipython",
    "version": 3
   },
   "file_extension": ".py",
   "mimetype": "text/x-python",
   "name": "python",
   "nbconvert_exporter": "python",
   "pygments_lexer": "ipython3",
   "version": "3.9.10"
  },
  "orig_nbformat": 4
 },
 "nbformat": 4,
 "nbformat_minor": 2
}
