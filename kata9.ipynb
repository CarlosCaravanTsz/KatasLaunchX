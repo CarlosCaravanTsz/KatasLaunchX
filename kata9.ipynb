{
 "cells": [
  {
   "cell_type": "markdown",
   "metadata": {},
   "source": [
    "# Kata 9 - Funciones"
   ]
  },
  {
   "cell_type": "code",
   "execution_count": null,
   "metadata": {},
   "outputs": [],
   "source": [
    "\n",
    "def generate_report(tanque_1, tanque_2, tanque_3):\n",
    "    prom = (tanque_1 + tanque_2 + tanque_3) / 3\n",
    "    return f\"\"\"Reporte de combustible:\n",
    "    Tanque 1: {tanque_1}%\n",
    "    Tanque 2: {tanque_2}%\n",
    "    Tanque 3: {tanque_3}%\n",
    "    Promedio de tanques: {prom}\n",
    "    \"\"\"\n",
    "\n",
    "print(generate_report(80, 70, 85))\n"
   ]
  },
  {
   "cell_type": "code",
   "execution_count": 3,
   "metadata": {},
   "outputs": [
    {
     "data": {
      "text/plain": [
       "82.0"
      ]
     },
     "execution_count": 3,
     "metadata": {},
     "output_type": "execute_result"
    }
   ],
   "source": [
    "\n",
    "def promedio(val):\n",
    "    total = sum(val)\n",
    "    number_of_items = len(val)\n",
    "    return total / number_of_items\n",
    "\n",
    "promedio([80, 85, 81])\n"
   ]
  },
  {
   "cell_type": "code",
   "execution_count": 4,
   "metadata": {},
   "outputs": [
    {
     "name": "stdout",
     "output_type": "stream",
     "text": [
      "Reporte de Combustible:\n",
      "    Tanque_1: 88%\n",
      "    Tanque_2: 76%\n",
      "    Tanque_3: 70%\n",
      "    Promedio: 78.0\n",
      "    \n"
     ]
    }
   ],
   "source": [
    "def generate_report(tanque_1, tanque_2, tanque_3):\n",
    "    return f\"\"\"Reporte de Combustible:\n",
    "    Tanque_1: {tanque_1}%\n",
    "    Tanque_2: {tanque_2}%\n",
    "    Tanque_3: {tanque_3}%\n",
    "    Promedio: {promedio([tanque_1, tanque_2, tanque_3])}\n",
    "    \"\"\"\n",
    "\n",
    "\n",
    "# Call the updated function again with different values\n",
    "print(generate_report(88, 76, 70))\n"
   ]
  },
  {
   "cell_type": "markdown",
   "metadata": {},
   "source": [
    "## Ejercicio 2"
   ]
  },
  {
   "cell_type": "code",
   "execution_count": 7,
   "metadata": {},
   "outputs": [
    {
     "name": "stdout",
     "output_type": "stream",
     "text": [
      "\n",
      "    Destino a Moon\n",
      "    Tiempo total de vuelo: 65 minutos aproximadamente\n",
      "    Combustible restante: 500000 galones\n",
      "    \n"
     ]
    }
   ],
   "source": [
    "\n",
    "def reporte_total(pre_launch, tiempo_vuelo, destino, tanque_2, tanque_1):\n",
    "    return f\"\"\"\n",
    "    Destino a {destino}\n",
    "    Tiempo total de vuelo: {pre_launch + tiempo_vuelo} minutos aproximadamente\n",
    "    Combustible restante: {tanque_2 + tanque_1} galones\n",
    "    \"\"\"\n",
    "\n",
    "print(reporte_total(14, 51, \"Moon\", 200000, 300000))"
   ]
  },
  {
   "cell_type": "code",
   "execution_count": 8,
   "metadata": {},
   "outputs": [
    {
     "name": "stdout",
     "output_type": "stream",
     "text": [
      "\n",
      "    Destino a Moon\n",
      "    Tiempo total de vuelo: 76 minutos aproximadamente\n",
      "    Combustible restante: 500000 galones\n",
      "    \n"
     ]
    }
   ],
   "source": [
    "\n",
    "def mission_report(destino, *minutos, **tanques):\n",
    "    return f\"\"\"\n",
    "    Destino a {destino}\n",
    "    Tiempo total de vuelo: {sum(minutos)} minutos aproximadamente\n",
    "    Combustible restante: {sum(tanques.values())} galones\n",
    "    \"\"\"\n",
    "\n",
    "\n",
    "print(mission_report(\"Moon\", 10, 15, 51, main=300000, external=200000))\n"
   ]
  },
  {
   "cell_type": "code",
   "execution_count": 11,
   "metadata": {},
   "outputs": [
    {
     "name": "stdout",
     "output_type": "stream",
     "text": [
      "\n",
      "    Destino a Moon\n",
      "    Tiempo de vuelo 74 minutos\n",
      "    Total combustible: 500000\n",
      "    El tanque main tiene --> 300000 galones restantes\n",
      "El tanque external tiene --> 200000 galones restantes\n",
      "\n"
     ]
    }
   ],
   "source": [
    "def mission_report(destino, *tiempo, **tanques):\n",
    "    reporte_principal = f\"\"\"\n",
    "    Destino a {destino}\n",
    "    Tiempo de vuelo {sum(tiempo)} minutos\n",
    "    Total combustible: {sum(tanques.values())}\n",
    "    \"\"\"\n",
    "\n",
    "    for tanque, l in tanques.items():\n",
    "        reporte_principal += f\"El tanque {tanque} tiene --> {l} galones restantes\\n\"\n",
    "    return reporte_principal\n",
    "\n",
    "\n",
    "print(mission_report(\"Moon\", 8, 11, 55, main=300000, external=200000))\n"
   ]
  },
  {
   "cell_type": "code",
   "execution_count": null,
   "metadata": {},
   "outputs": [],
   "source": []
  }
 ],
 "metadata": {
  "interpreter": {
   "hash": "7888f3be29d3b7fb921d3ad191b6ead3b33888af7094c94ce9daed80efec4046"
  },
  "kernelspec": {
   "display_name": "Python 3.9.10 ('env': venv)",
   "language": "python",
   "name": "python3"
  },
  "language_info": {
   "codemirror_mode": {
    "name": "ipython",
    "version": 3
   },
   "file_extension": ".py",
   "mimetype": "text/x-python",
   "name": "python",
   "nbconvert_exporter": "python",
   "pygments_lexer": "ipython3",
   "version": "3.9.10"
  },
  "orig_nbformat": 4
 },
 "nbformat": 4,
 "nbformat_minor": 2
}
