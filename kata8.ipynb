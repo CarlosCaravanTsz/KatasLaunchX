{
 "cells": [
  {
   "cell_type": "markdown",
   "metadata": {},
   "source": [
    "# Kata 8 - Diccionarios"
   ]
  },
  {
   "cell_type": "markdown",
   "metadata": {},
   "source": [
    "## Ejercicio 1"
   ]
  },
  {
   "cell_type": "code",
   "execution_count": 19,
   "metadata": {},
   "outputs": [
    {
     "name": "stdout",
     "output_type": "stream",
     "text": [
      "Mars 2\n",
      "El planeta Mars tiene una circunferencia de 6752\n"
     ]
    }
   ],
   "source": [
    "planet = {\"name\": \"Mars\", \"moons\": 2}\n",
    "\n",
    "print(planet.get(\"name\"), planet.get(\"moons\"))\n",
    "\n",
    "planet.update({\"circunferencia\": {\"polar\": 6752, \"equatorial\": 6792}})\n",
    "\n",
    "print(\n",
    "    f'El planeta {planet[\"name\"]} tiene una circunferencia de {planet[\"circunferencia\"][\"polar\"]}')\n"
   ]
  },
  {
   "cell_type": "markdown",
   "metadata": {},
   "source": [
    "## Ejercicio 2"
   ]
  },
  {
   "cell_type": "code",
   "execution_count": 25,
   "metadata": {},
   "outputs": [
    {
     "name": "stdout",
     "output_type": "stream",
     "text": [
      "8.0\n"
     ]
    }
   ],
   "source": [
    "moons = {\"Mercurio\": 0, \"Venus\": 2, \"Tierra\": 1, \"Jupiter\": 9, \"Saturno\":4, \"Urano\": 4, \"Neptuno\": 4}\n",
    "\n",
    "\n",
    "# Almacenamos los resultados en una variable llamada years\n",
    "planet_moons = len(moons.keys())\n",
    "\n",
    "\n",
    "total_moons = 0\n",
    "for moon in moons.values():\n",
    "    total_moons = total_moons + moon\n",
    "\n",
    "average = total_moons / planets\n",
    "\n",
    "print(average)\n"
   ]
  },
  {
   "cell_type": "code",
   "execution_count": null,
   "metadata": {},
   "outputs": [],
   "source": []
  }
 ],
 "metadata": {
  "interpreter": {
   "hash": "7888f3be29d3b7fb921d3ad191b6ead3b33888af7094c94ce9daed80efec4046"
  },
  "kernelspec": {
   "display_name": "Python 3.9.10 ('env': venv)",
   "language": "python",
   "name": "python3"
  },
  "language_info": {
   "codemirror_mode": {
    "name": "ipython",
    "version": 3
   },
   "file_extension": ".py",
   "mimetype": "text/x-python",
   "name": "python",
   "nbconvert_exporter": "python",
   "pygments_lexer": "ipython3",
   "version": "3.9.7"
  },
  "orig_nbformat": 4
 },
 "nbformat": 4,
 "nbformat_minor": 2
}
